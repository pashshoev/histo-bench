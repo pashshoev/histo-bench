{
 "cells": [
  {
   "cell_type": "code",
   "execution_count": 1,
   "id": "c578883f",
   "metadata": {},
   "outputs": [
    {
     "name": "stdout",
     "output_type": "stream",
     "text": [
      "Hello, World!\n"
     ]
    }
   ],
   "source": [
    "print(\"Hello, World!\")"
   ]
  },
  {
   "cell_type": "code",
   "execution_count": 4,
   "id": "60c3d728",
   "metadata": {},
   "outputs": [],
   "source": [
    "import pandas as pd"
   ]
  },
  {
   "cell_type": "code",
   "execution_count": 19,
   "id": "098df3d9",
   "metadata": {},
   "outputs": [],
   "source": [
    "def build_labels_from_manifests(LUSC_MANIFEST_PATH: str, LUAD_MANIFEST_PATH: str, file_extension: str = \".svs\"):\n",
    "\n",
    "    \n",
    "    # read manifests\n",
    "    lusc = pd.read_csv(LUSC_MANIFEST_PATH, sep='\\t')\n",
    "    luad = pd.read_csv(LUAD_MANIFEST_PATH, sep='\\t')\n",
    "\n",
    "    print(\"Columns in LUSC: \", lusc.columns)\n",
    "\n",
    "    lusc = lusc.assign(project=\"LUSC\")\n",
    "    luad = luad.assign(project=\"LUAD\")\n",
    "\n",
    "    lusc = lusc.assign(label=0)\n",
    "    luad = luad.assign(label=1)\n",
    "\n",
    "    lusc_luad = pd.concat([lusc, luad])\n",
    "\n",
    "    lusc_luad = lusc_luad.assign(slide_id = lusc_luad[\"filename\"].str.replace(file_extension, \"\"))\n",
    "    lusc_luad = lusc_luad.assign(case_id = lusc_luad[\"filename\"].apply(lambda x: '-'.join(x.split('-')[:3])))\n",
    "\n",
    "    final_columns = [\"slide_id\", \"project\", \"label\", \"case_id\"]\n",
    "\n",
    "    lusc_luad = lusc_luad[final_columns]\n",
    "    \n",
    "    return lusc_luad\n",
    "    \n"
   ]
  },
  {
   "cell_type": "code",
   "execution_count": 16,
   "id": "4322a9d7",
   "metadata": {},
   "outputs": [
    {
     "name": "stdout",
     "output_type": "stream",
     "text": [
      "Columns in LUSC:  Index(['id', 'filename', 'md5', 'size', 'state'], dtype='object')\n"
     ]
    }
   ],
   "source": [
    "LUSC_MANIFEST_PATH = \"manifests/manifest_LUSC.txt\"\n",
    "LUAD_MANIFEST_PATH = \"manifests/manifest_LUAD.txt\"\n",
    "\n",
    "final_df = build_labels_from_manifests(LUSC_MANIFEST_PATH, LUAD_MANIFEST_PATH)\n"
   ]
  },
  {
   "cell_type": "code",
   "execution_count": 17,
   "id": "d5e7ed2c",
   "metadata": {},
   "outputs": [],
   "source": [
    "final_df.to_csv(\"training_labels.csv\", index=False)"
   ]
  },
  {
   "cell_type": "code",
   "execution_count": null,
   "id": "ad0fa5d9",
   "metadata": {},
   "outputs": [],
   "source": []
  },
  {
   "cell_type": "code",
   "execution_count": 2,
   "id": "364224b3",
   "metadata": {},
   "outputs": [],
   "source": [
    "import pandas as pd"
   ]
  },
  {
   "cell_type": "code",
   "execution_count": 1,
   "id": "b9d6cf96",
   "metadata": {},
   "outputs": [],
   "source": [
    "def build_labels_from_manifests(KIRC_MANIFEST_PATH: str, KICH_MANIFEST_PATH: str, KIRP_MANIFEST_PATH: str, file_extension: str = \".svs\"):\n",
    "\n",
    "    \n",
    "    # read manifests\n",
    "    kirc = pd.read_csv(KIRC_MANIFEST_PATH, sep='\\t')\n",
    "    kich = pd.read_csv(KICH_MANIFEST_PATH, sep='\\t')\n",
    "    kirp = pd.read_csv(KIRP_MANIFEST_PATH, sep='\\t')    \n",
    "\n",
    "    print(\"Columns in KIRC: \", kirc.columns)\n",
    "    print(\"Columns in KICH: \", kich.columns)\n",
    "    print(\"Columns in KIRP: \", kirp.columns)\n",
    "\n",
    "    kirc = kirc.assign(project=\"KIRC\")\n",
    "    kich = kich.assign(project=\"KICH\")\n",
    "    kirp = kirp.assign(project=\"KIRP\")\n",
    "\n",
    "    kirc = kirc.assign(label=0)\n",
    "    kich = kich.assign(label=1)\n",
    "    kirp = kirp.assign(label=2)\n",
    "\n",
    "    kirc_kich_kirp = pd.concat([kirc, kich, kirp])\n",
    "\n",
    "    kirc_kich_kirp = kirc_kich_kirp.assign(slide_id = kirc_kich_kirp[\"filename\"].str.replace(file_extension, \"\"))\n",
    "    kirc_kich_kirp = kirc_kich_kirp.assign(case_id = kirc_kich_kirp[\"filename\"].apply(lambda x: '-'.join(x.split('-')[:3])))\n",
    "\n",
    "    final_columns = [\"id\", \"slide_id\", \"project\", \"label\", \"case_id\"]\n",
    "\n",
    "    kirc_kich_kirp = kirc_kich_kirp[final_columns]\n",
    "    \n",
    "    return kirc_kich_kirp\n",
    "    \n"
   ]
  },
  {
   "cell_type": "code",
   "execution_count": 3,
   "id": "055097e3",
   "metadata": {},
   "outputs": [],
   "source": [
    "kich = \"manifests/manifest_KICH.txt\"\n",
    "kirc = \"manifests/manifest_KIRC.txt\"\n",
    "kirp = \"manifests/manifest_KIRP.txt\"\n",
    "\n"
   ]
  },
  {
   "cell_type": "code",
   "execution_count": 4,
   "id": "55a78190",
   "metadata": {},
   "outputs": [
    {
     "name": "stdout",
     "output_type": "stream",
     "text": [
      "Columns in KIRC:  Index(['id', 'filename', 'md5', 'size', 'state'], dtype='object')\n",
      "Columns in KICH:  Index(['id', 'filename', 'md5', 'size', 'state'], dtype='object')\n",
      "Columns in KIRP:  Index(['id', 'filename', 'md5', 'size', 'state'], dtype='object')\n"
     ]
    }
   ],
   "source": [
    "result = build_labels_from_manifests(kich, kirc, kirp)"
   ]
  },
  {
   "cell_type": "code",
   "execution_count": null,
   "id": "c833e2fa",
   "metadata": {},
   "outputs": [],
   "source": [
    "result.to_csv(\"training_labels.csv\", index=False)\n",
    "\n",
    "slide_name_file = result[[\"case_id\", \"slide_id\", \"label\"]]\n",
    "slide_name_file.to_csv(\"slide_name_file.csv\", index=False)\n",
    "\n",
    "uuid_name_file = result[[\"id\", \"slide_id\", \"label\"]].copy()\n",
    "uuid_name_file[\"slide_name\"] = uuid_name_file[\"slide_id\"] + \".svs\"\n",
    "\n",
    "#reorder columns\n",
    "uuid_name_file = uuid_name_file[[\"id\", \"slide_name\", \"label\"]]\n",
    "\n",
    "#save to excel without header\n",
    "uuid_name_file.to_excel(\"uuid_name_file.xlsx\", index=False, header=False)"
   ]
  },
  {
   "cell_type": "code",
   "execution_count": null,
   "id": "f7bd363f",
   "metadata": {},
   "outputs": [],
   "source": [
    "# just 10 random samples\n",
    "\n",
    "sample = result.sample(5, random_state=42)\n",
    "sample.to_csv(\"sample_data/training_labels.csv\", index=False)\n",
    "\n",
    "slide_name_file = sample[[\"case_id\", \"slide_id\", \"label\"]]\n",
    "slide_name_file.to_csv(\"sample_data/slide_name_file.csv\", index=False)\n",
    "\n",
    "uuid_name_file = sample[[\"id\", \"slide_id\", \"label\"]].copy()\n",
    "uuid_name_file[\"slide_name\"] = uuid_name_file[\"slide_id\"] + \".svs\"\n",
    "\n",
    "#reorder columns\n",
    "uuid_name_file = uuid_name_file[[\"id\", \"slide_name\", \"label\"]]\n",
    "\n",
    "#save to excel without header\n",
    "uuid_name_file.to_excel(\"sample_data/uuid_name_file.xlsx\", index=False, header=False)"
   ]
  },
  {
   "cell_type": "code",
   "execution_count": 13,
   "id": "b0aa25d8",
   "metadata": {},
   "outputs": [],
   "source": [
    "m1 = pd.read_csv(\"manifests/manifest_KIRC.txt\", sep='\\t')\n",
    "m2 = pd.read_csv(\"manifests/manifest_KICH.txt\", sep='\\t')\n",
    "m3 = pd.read_csv(\"manifests/manifest_KIRP.txt\", sep='\\t')\n",
    "\n",
    "all = pd.concat([m1, m2, m3])"
   ]
  },
  {
   "cell_type": "code",
   "execution_count": 15,
   "id": "04c48bb2",
   "metadata": {},
   "outputs": [],
   "source": [
    "all[all[\"id\"].isin(sample[\"id\"])].to_csv(\"sample_data/manifest_sample.csv\", index=False, sep='\\t')"
   ]
  },
  {
   "cell_type": "code",
   "execution_count": 37,
   "id": "8ea8f45e",
   "metadata": {},
   "outputs": [],
   "source": [
    "csv = pd.read_csv(\"uuid_name_file_sample_100.csv\")\n",
    "\n",
    "# csv.to_excel(\"uuid_name_file_sample_100.xlsx\", index=False, header=False)"
   ]
  },
  {
   "cell_type": "code",
   "execution_count": 39,
   "id": "f1a5eeba",
   "metadata": {},
   "outputs": [],
   "source": [
    "csv = csv.assign(slide_name = csv.slide_id.apply(lambda x: f\"{x}.svs\"))"
   ]
  },
  {
   "cell_type": "code",
   "execution_count": 43,
   "id": "10536c5d",
   "metadata": {},
   "outputs": [],
   "source": [
    "csv[[\"id\", \"slide_name\", \"label\"]].to_excel(\"uuid_name_file_sample_100.xlsx\", index=False, header=False)"
   ]
  },
  {
   "cell_type": "code",
   "execution_count": 1,
   "id": "2c1f7c2d",
   "metadata": {},
   "outputs": [],
   "source": [
    "import pandas as pd"
   ]
  },
  {
   "cell_type": "code",
   "execution_count": 3,
   "id": "33421521",
   "metadata": {},
   "outputs": [],
   "source": [
    "manifest = pd.read_csv(\"sample_data/manifest_sample.csv\", sep='\\t')"
   ]
  },
  {
   "cell_type": "code",
   "execution_count": 4,
   "id": "e9a8a533",
   "metadata": {},
   "outputs": [
    {
     "data": {
      "text/html": [
       "<div>\n",
       "<style scoped>\n",
       "    .dataframe tbody tr th:only-of-type {\n",
       "        vertical-align: middle;\n",
       "    }\n",
       "\n",
       "    .dataframe tbody tr th {\n",
       "        vertical-align: top;\n",
       "    }\n",
       "\n",
       "    .dataframe thead th {\n",
       "        text-align: right;\n",
       "    }\n",
       "</style>\n",
       "<table border=\"1\" class=\"dataframe\">\n",
       "  <thead>\n",
       "    <tr style=\"text-align: right;\">\n",
       "      <th></th>\n",
       "      <th>id</th>\n",
       "      <th>filename</th>\n",
       "      <th>md5</th>\n",
       "      <th>size</th>\n",
       "      <th>state</th>\n",
       "    </tr>\n",
       "  </thead>\n",
       "  <tbody>\n",
       "    <tr>\n",
       "      <th>0</th>\n",
       "      <td>c742db54-225b-49e7-8998-e38026cda34d</td>\n",
       "      <td>TCGA-A3-3329-01Z-00-DX1.4da187d6-f0d4-4f4b-95d...</td>\n",
       "      <td>c21db6fe4b0c8fbc6f7b2d58c35d5990</td>\n",
       "      <td>318011717</td>\n",
       "      <td>released</td>\n",
       "    </tr>\n",
       "    <tr>\n",
       "      <th>1</th>\n",
       "      <td>2e9b1e92-8c3f-4470-9869-6eb5ebb39959</td>\n",
       "      <td>TCGA-B0-5109-01Z-00-DX1.7d4f557d-d4f5-4c89-886...</td>\n",
       "      <td>78fc437a8e2da84564af3da63048653b</td>\n",
       "      <td>1058351717</td>\n",
       "      <td>released</td>\n",
       "    </tr>\n",
       "    <tr>\n",
       "      <th>2</th>\n",
       "      <td>720fdba7-d194-455d-8e97-c5564ac68a9a</td>\n",
       "      <td>TCGA-B0-5116-01Z-00-DX1.48fbc5d2-2fda-4ad3-86e...</td>\n",
       "      <td>8d264de0e284f3f63e034b4ed8cee66a</td>\n",
       "      <td>965851535</td>\n",
       "      <td>released</td>\n",
       "    </tr>\n",
       "    <tr>\n",
       "      <th>3</th>\n",
       "      <td>49eaed85-9fe6-45ec-b776-3209e59b6da2</td>\n",
       "      <td>TCGA-BP-4345-01Z-00-DX1.5ada8b8e-40c4-4035-b34...</td>\n",
       "      <td>44e6308d08eebcb6cbf798ba106efd03</td>\n",
       "      <td>715848744</td>\n",
       "      <td>released</td>\n",
       "    </tr>\n",
       "    <tr>\n",
       "      <th>4</th>\n",
       "      <td>ec4ced48-0fef-4f09-b43b-1034e77c8eaa</td>\n",
       "      <td>TCGA-A3-3307-01Z-00-DX1.E9BB41BE-9F96-49A7-816...</td>\n",
       "      <td>c042d037d1c1cf51890f35270edfab25</td>\n",
       "      <td>794473984</td>\n",
       "      <td>released</td>\n",
       "    </tr>\n",
       "    <tr>\n",
       "      <th>5</th>\n",
       "      <td>e5b08935-91cb-4faa-b2ec-d5cd403c5bd7</td>\n",
       "      <td>TCGA-B8-5165-01Z-00-DX1.d0314896-5fb0-4c33-9d6...</td>\n",
       "      <td>ce23ac38bc40906cb525c52787b99d4a</td>\n",
       "      <td>741801996</td>\n",
       "      <td>released</td>\n",
       "    </tr>\n",
       "    <tr>\n",
       "      <th>6</th>\n",
       "      <td>a4a60592-cab1-4649-b58c-c2fdf92a44be</td>\n",
       "      <td>TCGA-B0-4713-01Z-00-DX1.974f47b6-2d74-4bb0-843...</td>\n",
       "      <td>babfb3b9f4d5201482cb8a6c1dcbdcae</td>\n",
       "      <td>1148615781</td>\n",
       "      <td>released</td>\n",
       "    </tr>\n",
       "    <tr>\n",
       "      <th>7</th>\n",
       "      <td>b5491ed3-9e8d-4c6b-9d8d-bc9ada7b4d6f</td>\n",
       "      <td>TCGA-KM-A7QC-01Z-00-DX1.4B44EEAA-FA1C-47F9-852...</td>\n",
       "      <td>239fc21e27107d6d23f305c105f7666d</td>\n",
       "      <td>1580370105</td>\n",
       "      <td>released</td>\n",
       "    </tr>\n",
       "    <tr>\n",
       "      <th>8</th>\n",
       "      <td>c14f04ea-b426-4837-a7d9-97b21d7b5308</td>\n",
       "      <td>TCGA-5P-A9KA-01Z-00-DX1.6F4914E0-AB5D-4D5F-8BF...</td>\n",
       "      <td>5b6bc788cc88102a9270e990f1c00081</td>\n",
       "      <td>3733062934</td>\n",
       "      <td>released</td>\n",
       "    </tr>\n",
       "    <tr>\n",
       "      <th>9</th>\n",
       "      <td>d6e662e4-1092-454a-bc96-656fe1887354</td>\n",
       "      <td>TCGA-UZ-A9PP-01Z-00-DX1.2754A8FC-28CB-40B9-861...</td>\n",
       "      <td>3fc93c4bdbae1d6d1e0f1cab0fe0e139</td>\n",
       "      <td>720060173</td>\n",
       "      <td>released</td>\n",
       "    </tr>\n",
       "  </tbody>\n",
       "</table>\n",
       "</div>"
      ],
      "text/plain": [
       "                                     id  \\\n",
       "0  c742db54-225b-49e7-8998-e38026cda34d   \n",
       "1  2e9b1e92-8c3f-4470-9869-6eb5ebb39959   \n",
       "2  720fdba7-d194-455d-8e97-c5564ac68a9a   \n",
       "3  49eaed85-9fe6-45ec-b776-3209e59b6da2   \n",
       "4  ec4ced48-0fef-4f09-b43b-1034e77c8eaa   \n",
       "5  e5b08935-91cb-4faa-b2ec-d5cd403c5bd7   \n",
       "6  a4a60592-cab1-4649-b58c-c2fdf92a44be   \n",
       "7  b5491ed3-9e8d-4c6b-9d8d-bc9ada7b4d6f   \n",
       "8  c14f04ea-b426-4837-a7d9-97b21d7b5308   \n",
       "9  d6e662e4-1092-454a-bc96-656fe1887354   \n",
       "\n",
       "                                            filename  \\\n",
       "0  TCGA-A3-3329-01Z-00-DX1.4da187d6-f0d4-4f4b-95d...   \n",
       "1  TCGA-B0-5109-01Z-00-DX1.7d4f557d-d4f5-4c89-886...   \n",
       "2  TCGA-B0-5116-01Z-00-DX1.48fbc5d2-2fda-4ad3-86e...   \n",
       "3  TCGA-BP-4345-01Z-00-DX1.5ada8b8e-40c4-4035-b34...   \n",
       "4  TCGA-A3-3307-01Z-00-DX1.E9BB41BE-9F96-49A7-816...   \n",
       "5  TCGA-B8-5165-01Z-00-DX1.d0314896-5fb0-4c33-9d6...   \n",
       "6  TCGA-B0-4713-01Z-00-DX1.974f47b6-2d74-4bb0-843...   \n",
       "7  TCGA-KM-A7QC-01Z-00-DX1.4B44EEAA-FA1C-47F9-852...   \n",
       "8  TCGA-5P-A9KA-01Z-00-DX1.6F4914E0-AB5D-4D5F-8BF...   \n",
       "9  TCGA-UZ-A9PP-01Z-00-DX1.2754A8FC-28CB-40B9-861...   \n",
       "\n",
       "                                md5        size     state  \n",
       "0  c21db6fe4b0c8fbc6f7b2d58c35d5990   318011717  released  \n",
       "1  78fc437a8e2da84564af3da63048653b  1058351717  released  \n",
       "2  8d264de0e284f3f63e034b4ed8cee66a   965851535  released  \n",
       "3  44e6308d08eebcb6cbf798ba106efd03   715848744  released  \n",
       "4  c042d037d1c1cf51890f35270edfab25   794473984  released  \n",
       "5  ce23ac38bc40906cb525c52787b99d4a   741801996  released  \n",
       "6  babfb3b9f4d5201482cb8a6c1dcbdcae  1148615781  released  \n",
       "7  239fc21e27107d6d23f305c105f7666d  1580370105  released  \n",
       "8  5b6bc788cc88102a9270e990f1c00081  3733062934  released  \n",
       "9  3fc93c4bdbae1d6d1e0f1cab0fe0e139   720060173  released  "
      ]
     },
     "execution_count": 4,
     "metadata": {},
     "output_type": "execute_result"
    }
   ],
   "source": [
    "manifest"
   ]
  },
  {
   "cell_type": "code",
   "execution_count": null,
   "id": "8cfcc51d",
   "metadata": {},
   "outputs": [],
   "source": []
  }
 ],
 "metadata": {
  "kernelspec": {
   "display_name": "histo-bench",
   "language": "python",
   "name": "python3"
  },
  "language_info": {
   "codemirror_mode": {
    "name": "ipython",
    "version": 3
   },
   "file_extension": ".py",
   "mimetype": "text/x-python",
   "name": "python",
   "nbconvert_exporter": "python",
   "pygments_lexer": "ipython3",
   "version": "3.10.18"
  }
 },
 "nbformat": 4,
 "nbformat_minor": 5
}
