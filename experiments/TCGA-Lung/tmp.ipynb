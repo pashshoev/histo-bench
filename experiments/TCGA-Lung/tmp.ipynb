{
 "cells": [
  {
   "cell_type": "code",
   "execution_count": 1,
   "id": "c578883f",
   "metadata": {},
   "outputs": [
    {
     "name": "stdout",
     "output_type": "stream",
     "text": [
      "Hello, World!\n"
     ]
    }
   ],
   "source": [
    "print(\"Hello, World!\")"
   ]
  },
  {
   "cell_type": "code",
   "execution_count": 2,
   "id": "60c3d728",
   "metadata": {},
   "outputs": [],
   "source": [
    "import pandas as pd"
   ]
  },
  {
   "cell_type": "code",
   "execution_count": 18,
   "id": "098df3d9",
   "metadata": {},
   "outputs": [],
   "source": [
    "def build_labels_from_manifests(LUSC_MANIFEST_PATH: str, LUAD_MANIFEST_PATH: str, file_extension: str = \".svs\"):\n",
    "\n",
    "    \n",
    "    # read manifests\n",
    "    lusc = pd.read_csv(LUSC_MANIFEST_PATH, sep='\\t')\n",
    "    luad = pd.read_csv(LUAD_MANIFEST_PATH, sep='\\t')\n",
    "\n",
    "    lusc = lusc.assign(project=\"LUSC\")\n",
    "    luad = luad.assign(project=\"LUAD\")\n",
    "\n",
    "    lusc = lusc.assign(label=0)\n",
    "    luad = luad.assign(label=1)\n",
    "\n",
    "    lusc_luad = pd.concat([lusc, luad])\n",
    "\n",
    "    lusc_luad = lusc_luad.assign(slide_id = lusc_luad[\"filename\"].str.replace(file_extension, \"\"))\n",
    "\n",
    "    final_columns = [\"slide_id\", \"project\", \"label\"]\n",
    "\n",
    "    lusc_luad = lusc_luad[final_columns]\n",
    "    \n",
    "    return lusc_luad\n",
    "    \n"
   ]
  },
  {
   "cell_type": "code",
   "execution_count": 21,
   "id": "4322a9d7",
   "metadata": {},
   "outputs": [],
   "source": [
    "LUSC_MANIFEST_PATH = \"manifests/manifest_LUSC.txt\"\n",
    "LUAD_MANIFEST_PATH = \"manifests/manifest_LUAD.txt\"\n",
    "\n",
    "final_df = build_labels_from_manifests(LUSC_MANIFEST_PATH, LUAD_MANIFEST_PATH)\n"
   ]
  },
  {
   "cell_type": "code",
   "execution_count": 25,
   "id": "d5e7ed2c",
   "metadata": {},
   "outputs": [],
   "source": [
    "final_df.to_csv(\"training_labels.csv\", index=False)"
   ]
  },
  {
   "cell_type": "code",
   "execution_count": null,
   "id": "364224b3",
   "metadata": {},
   "outputs": [],
   "source": []
  },
  {
   "cell_type": "code",
   "execution_count": null,
   "id": "b9d6cf96",
   "metadata": {},
   "outputs": [],
   "source": []
  }
 ],
 "metadata": {
  "kernelspec": {
   "display_name": "histo-bench",
   "language": "python",
   "name": "python3"
  },
  "language_info": {
   "codemirror_mode": {
    "name": "ipython",
    "version": 3
   },
   "file_extension": ".py",
   "mimetype": "text/x-python",
   "name": "python",
   "nbconvert_exporter": "python",
   "pygments_lexer": "ipython3",
   "version": "3.10.18"
  }
 },
 "nbformat": 4,
 "nbformat_minor": 5
}
