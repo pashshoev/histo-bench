{
 "cells": [
  {
   "cell_type": "code",
   "execution_count": 1,
   "id": "c578883f",
   "metadata": {},
   "outputs": [
    {
     "name": "stdout",
     "output_type": "stream",
     "text": [
      "Hello, World!\n"
     ]
    }
   ],
   "source": [
    "print(\"Hello, World!\")"
   ]
  },
  {
   "cell_type": "code",
   "execution_count": 4,
   "id": "60c3d728",
   "metadata": {},
   "outputs": [],
   "source": [
    "import pandas as pd"
   ]
  },
  {
   "cell_type": "code",
   "execution_count": 19,
   "id": "098df3d9",
   "metadata": {},
   "outputs": [],
   "source": [
    "def build_labels_from_manifests(LUSC_MANIFEST_PATH: str, LUAD_MANIFEST_PATH: str, file_extension: str = \".svs\"):\n",
    "\n",
    "    \n",
    "    # read manifests\n",
    "    lusc = pd.read_csv(LUSC_MANIFEST_PATH, sep='\\t')\n",
    "    luad = pd.read_csv(LUAD_MANIFEST_PATH, sep='\\t')\n",
    "\n",
    "    print(\"Columns in LUSC: \", lusc.columns)\n",
    "\n",
    "    lusc = lusc.assign(project=\"LUSC\")\n",
    "    luad = luad.assign(project=\"LUAD\")\n",
    "\n",
    "    lusc = lusc.assign(label=0)\n",
    "    luad = luad.assign(label=1)\n",
    "\n",
    "    lusc_luad = pd.concat([lusc, luad])\n",
    "\n",
    "    lusc_luad = lusc_luad.assign(slide_id = lusc_luad[\"filename\"].str.replace(file_extension, \"\"))\n",
    "    lusc_luad = lusc_luad.assign(case_id = lusc_luad[\"filename\"].apply(lambda x: '-'.join(x.split('-')[:3])))\n",
    "\n",
    "    final_columns = [\"slide_id\", \"project\", \"label\", \"case_id\"]\n",
    "\n",
    "    lusc_luad = lusc_luad[final_columns]\n",
    "    \n",
    "    return lusc_luad\n",
    "    \n"
   ]
  },
  {
   "cell_type": "code",
   "execution_count": 16,
   "id": "4322a9d7",
   "metadata": {},
   "outputs": [
    {
     "name": "stdout",
     "output_type": "stream",
     "text": [
      "Columns in LUSC:  Index(['id', 'filename', 'md5', 'size', 'state'], dtype='object')\n"
     ]
    }
   ],
   "source": [
    "LUSC_MANIFEST_PATH = \"manifests/manifest_LUSC.txt\"\n",
    "LUAD_MANIFEST_PATH = \"manifests/manifest_LUAD.txt\"\n",
    "\n",
    "final_df = build_labels_from_manifests(LUSC_MANIFEST_PATH, LUAD_MANIFEST_PATH)\n"
   ]
  },
  {
   "cell_type": "code",
   "execution_count": 17,
   "id": "d5e7ed2c",
   "metadata": {},
   "outputs": [],
   "source": [
    "final_df.to_csv(\"training_labels.csv\", index=False)"
   ]
  },
  {
   "cell_type": "code",
   "execution_count": 21,
   "id": "ad0fa5d9",
   "metadata": {},
   "outputs": [
    {
     "data": {
      "text/plain": [
       "Index(['slide_id', 'project', 'label', 'filename', 'case_id'], dtype='object')"
      ]
     },
     "execution_count": 21,
     "metadata": {},
     "output_type": "execute_result"
    }
   ],
   "source": [
    "final_df.columns"
   ]
  },
  {
   "cell_type": "code",
   "execution_count": null,
   "id": "364224b3",
   "metadata": {},
   "outputs": [
    {
     "name": "stdout",
     "output_type": "stream",
     "text": [
      "slides per patient distribution:\n",
      " 1     925\n",
      "2      12\n",
      "3       3\n",
      "4       5\n",
      "5       3\n",
      "6       2\n",
      "7       3\n",
      "8       1\n",
      "9       1\n",
      "10      1\n",
      "Name: count, dtype: int64\n",
      "splits (patients): 669 143 144\n",
      "label distribution train/val/test:\n",
      "label\n",
      "1    371\n",
      "0    357\n",
      "Name: count, dtype: int64 label\n",
      "0    89\n",
      "1    83\n",
      "Name: count, dtype: int64 label\n",
      "1    87\n",
      "0    66\n",
      "Name: count, dtype: int64\n"
     ]
    }
   ],
   "source": [
    "# Requires: pandas, sklearn\n",
    "import pandas as pd\n",
    "from sklearn.model_selection import GroupShuffleSplit, StratifiedGroupKFold\n",
    "\n",
    "# df must have columns: 'slide_id', 'patient_id', 'label' (int or str)\n",
    "# Example: df = pd.read_csv(\"slides.csv\")\n",
    "\n",
    "RANDOM_SEED = 42\n",
    "\n",
    "# 1) quick check\n",
    "counts = df.groupby('case_id').size().value_counts().sort_index()\n",
    "print(\"slides per patient distribution:\\n\", counts)\n",
    "\n",
    "# 2) create 70/15/15 patient-wise split\n",
    "gss = GroupShuffleSplit(n_splits=1, test_size=0.30, random_state=RANDOM_SEED)\n",
    "train_idx, temp_idx = next(gss.split(df, groups=df['case_id']))\n",
    "df_train = df.iloc[train_idx].copy()\n",
    "df_temp  = df.iloc[temp_idx].copy()\n",
    "\n",
    "# split temp into val/test (half-half -> 15% each)\n",
    "gss2 = GroupShuffleSplit(n_splits=1, test_size=0.5, random_state=RANDOM_SEED)\n",
    "val_idx_rel, test_idx_rel = next(gss2.split(df_temp, groups=df_temp['case_id']))\n",
    "df_val  = df_temp.iloc[val_idx_rel].copy()\n",
    "df_test = df_temp.iloc[test_idx_rel].copy()\n",
    "\n",
    "# sanity: ensure patient sets are disjoint\n",
    "assert set(df_train['case_id']).isdisjoint(df_val['case_id'])\n",
    "assert set(df_train['case_id']).isdisjoint(df_test['case_id'])\n",
    "assert set(df_val['case_id']).isdisjoint(df_test['case_id'])\n",
    "\n",
    "print(\"splits (patients):\", df_train['case_id'].nunique(), df_val['case_id'].nunique(), df_test['case_id'].nunique())\n",
    "print(\"label distribution train/val/test:\")\n",
    "print(df_train['label'].value_counts(), df_val['label'].value_counts(), df_test['label'].value_counts())"
   ]
  },
  {
   "cell_type": "code",
   "execution_count": 30,
   "id": "b9d6cf96",
   "metadata": {},
   "outputs": [
    {
     "name": "stdout",
     "output_type": "stream",
     "text": [
      "fold 0: train patients 764, val patients 192\n",
      "fold 1: train patients 764, val patients 192\n",
      "fold 2: train patients 764, val patients 192\n",
      "fold 3: train patients 766, val patients 190\n",
      "fold 4: train patients 766, val patients 190\n"
     ]
    }
   ],
   "source": [
    "# 3) patient-wise 5-fold CV (StratifiedGroupKFold)\n",
    "sgkf = StratifiedGroupKFold(n_splits=5, shuffle=True, random_state=RANDOM_SEED)\n",
    "# iterate over folds (gives indices into df or into arrays)\n",
    "for fold, (tr_idx, val_idx) in enumerate(sgkf.split(df, df['label'], groups=df['case_id'])):\n",
    "    print(f\"fold {fold}: train patients {df.iloc[tr_idx]['case_id'].nunique()}, val patients {df.iloc[val_idx]['case_id'].nunique()}\")\n",
    "    # use df.iloc[tr_idx], df.iloc[val_idx] for training/validation in that fold"
   ]
  },
  {
   "cell_type": "code",
   "execution_count": null,
   "id": "055097e3",
   "metadata": {},
   "outputs": [],
   "source": []
  }
 ],
 "metadata": {
  "kernelspec": {
   "display_name": "histo-bench",
   "language": "python",
   "name": "python3"
  },
  "language_info": {
   "codemirror_mode": {
    "name": "ipython",
    "version": 3
   },
   "file_extension": ".py",
   "mimetype": "text/x-python",
   "name": "python",
   "nbconvert_exporter": "python",
   "pygments_lexer": "ipython3",
   "version": "3.10.18"
  }
 },
 "nbformat": 4,
 "nbformat_minor": 5
}
